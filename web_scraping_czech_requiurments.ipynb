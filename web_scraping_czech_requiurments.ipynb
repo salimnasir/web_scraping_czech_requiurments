{
 "cells": [
  {
   "cell_type": "markdown",
   "metadata": {},
   "source": [
    "# Instalation Require Libraries "
   ]
  },
  {
   "cell_type": "markdown",
   "metadata": {},
   "source": [
    "#### Please run this one by one"
   ]
  },
  {
   "cell_type": "code",
   "execution_count": null,
   "metadata": {},
   "outputs": [],
   "source": [
    "!pip install urllib.request"
   ]
  },
  {
   "cell_type": "code",
   "execution_count": null,
   "metadata": {},
   "outputs": [],
   "source": [
    "!pip install request"
   ]
  },
  {
   "cell_type": "code",
   "execution_count": null,
   "metadata": {},
   "outputs": [],
   "source": [
    "!pip install bs4"
   ]
  },
  {
   "cell_type": "code",
   "execution_count": null,
   "metadata": {},
   "outputs": [],
   "source": [
    "!pip install pandas"
   ]
  },
  {
   "cell_type": "markdown",
   "metadata": {},
   "source": [
    "### Thses are the List define which store data when we start scraping all data will be store here"
   ]
  },
  {
   "cell_type": "code",
   "execution_count": 2,
   "metadata": {},
   "outputs": [],
   "source": [
    "Region=[]\n",
    "District=[]\n",
    "Municipality=[]\n",
    "Voter_in_List=[]\n",
    "Issued_Envelopes=[]\n",
    "Turnout_in_Percen=[]\n",
    "Submitted_Envelopes=[]\n",
    "Valid_Voted=[]\n",
    "Percentage_of_Valid_Vote=[]\n",
    "Municipality_code=[]\n",
    "Name=[]\n",
    "Valid_Vote_Total=[]\n",
    "Valid_Vote_In_Percentage=[]"
   ]
  },
  {
   "cell_type": "markdown",
   "metadata": {},
   "source": [
    "### these will be take input from user \n",
    "### 1) file will from the name of file which you want let suppose you enter xyz the file name will be xyz.csv\n",
    "### 2) url input for take url which you want to scrap put this url in input url"
   ]
  },
  {
   "cell_type": "code",
   "execution_count": 3,
   "metadata": {},
   "outputs": [],
   "source": [
    "file = input('Enter csv Name :')\n",
    "url = input('Please Enter Url Link Here...')"
   ]
  },
  {
   "cell_type": "markdown",
   "metadata": {},
   "source": [
    "## Request send request to website to get website source code(html)\n",
    "## page_html use for to read these page source code \n",
    "## page_soup parse all source code then run our query to get our require data from page "
   ]
  },
  {
   "cell_type": "code",
   "execution_count": null,
   "metadata": {},
   "outputs": [],
   "source": [
    "req = Request(url, headers={'User-Agent': 'Mozilla/5.0'})\n",
    "page_html = uReq(req).read().decode('utf-8', 'ignore')\n",
    "page_soup = soup(page_html, \"html.parser\")"
   ]
  },
  {
   "cell_type": "markdown",
   "metadata": {},
   "source": [
    "### page_soup.findAll(\"div\",{\"class\",\"t3\"}) query for to get all number and name and print the number and names easy to select in furthur to put in input"
   ]
  },
  {
   "cell_type": "code",
   "execution_count": null,
   "metadata": {},
   "outputs": [],
   "source": [
    "for container in page_soup.findAll(\"div\",{\"class\",\"t3\"})[0:3]:\n",
    "    rows = container.findAll('td')\n",
    "    for i in range(0, len(rows), 3):\n",
    "        print(rows[i].text, rows[i+1].text)"
   ]
  },
  {
   "cell_type": "markdown",
   "metadata": {},
   "source": [
    "### numbr is veriable to take input one of those number which showing "
   ]
  },
  {
   "cell_type": "code",
   "execution_count": null,
   "metadata": {},
   "outputs": [],
   "source": [
    "numbr =  input('Enter Number Here :')"
   ]
  },
  {
   "cell_type": "markdown",
   "metadata": {},
   "source": [
    "### Page veriable concat the url and the number which we enter this will make complete url"
   ]
  },
  {
   "cell_type": "code",
   "execution_count": null,
   "metadata": {},
   "outputs": [],
   "source": [
    "page = 'https://volby.cz/pls/ps2017nss/ps311?xjazyk=CZ&xkraj=2&xobec='+str(numbr)\n",
    "req1 = Request(page, headers={'User-Agent': 'Mozilla/5.0'})\n",
    "page_html1 = uReq(req1).read().decode('utf-8', 'ignore')\n",
    "page_soup1 = soup(page_html1, \"html.parser\")"
   ]
  },
  {
   "cell_type": "markdown",
   "metadata": {},
   "source": [
    "### Thse are the queries to get the data and most important to append in List which are we define intialy  "
   ]
  },
  {
   "cell_type": "code",
   "execution_count": null,
   "metadata": {},
   "outputs": [],
   "source": [
    "try:\n",
    "    region = page_soup1.findAll(\"div\",{\"class\",\"topline\"})[0].findAll('h3')[0].text.strip()\n",
    "except:\n",
    "    region = ''\n",
    "try:\n",
    "    district = page_soup1.findAll(\"div\",{\"class\",\"topline\"})[0].findAll('h3')[1].text.strip()\n",
    "except:\n",
    "    district\n",
    "try:\n",
    "    municipality = page_soup1.findAll(\"div\",{\"class\",\"topline\"})[0].findAll('h3')[2].text.strip()\n",
    "except:\n",
    "    municipality = ''\n",
    "try:\n",
    "    voter_in_list = page_soup1.findAll(\"table\",{\"class\",\"table\"})[0].findAll('tr')[2].findAll('td')[3].text\n",
    "except:\n",
    "    voter_in_list = ''\n",
    "try:\n",
    "    issued_envelopes = page_soup1.findAll(\"table\",{\"class\",\"table\"})[0].findAll('tr')[2].findAll('td')[4].text\n",
    "except:\n",
    "    issued_envelopes = ''\n",
    "try:\n",
    "    turnout_in_percen = page_soup1.findAll(\"table\",{\"class\",\"table\"})[0].findAll('tr')[2].findAll('td')[5].text.replace(\",\",\".\")\n",
    "except:\n",
    "    turnout_in_percen = ''\n",
    "try:\n",
    "    submitted_envelopes = page_soup1.findAll(\"table\",{\"class\",\"table\"})[0].findAll('tr')[2].findAll('td')[6].text\n",
    "except:\n",
    "    submitted_envelopes = ''\n",
    "try:\n",
    "    valid_voted = page_soup1.findAll(\"table\",{\"class\",\"table\"})[0].findAll('tr')[2].findAll('td')[7].text\n",
    "except:\n",
    "    valid_voted = ''\n",
    "try:\n",
    "    percentage_of_valid_vote = page_soup1.findAll(\"table\",{\"class\",\"table\"})[0].findAll('tr')[2].findAll('td')[8].text\n",
    "except:\n",
    "    percentage_of_valid_vote = ''\n",
    "for table in page_soup1.findAll(\"table\",{\"class\",\"table\"})[1:3]:\n",
    "    rows = table.findAll('tr')[2:]\n",
    "    for row in rows:\n",
    "        try:\n",
    "            name = row.findAll('td')[1].text.strip().replace(\",\",\"\")\n",
    "            Name.append(name)\n",
    "            Region.append(region)\n",
    "            District.append(district)\n",
    "            Municipality.append(municipality)\n",
    "            Voter_in_List.append(voter_in_list)\n",
    "            Issued_Envelopes.append(issued_envelopes)\n",
    "            Turnout_in_Percen.append(turnout_in_percen)\n",
    "            Submitted_Envelopes.append(submitted_envelopes)\n",
    "            Valid_Voted.append(valid_voted)\n",
    "            Percentage_of_Valid_Vote.append(percentage_of_valid_vote) \n",
    "            Municipality_code.append(numbr)\n",
    "        except:\n",
    "            name = ''\n",
    "            Name.append(name)\n",
    "        try:\n",
    "            valid_vote_total = row.findAll('td')[2].text.strip()\n",
    "            Valid_Vote_Total.append(valid_vote_total)\n",
    "        except:\n",
    "            valid_vote_total = ''\n",
    "            Valid_Vote_Total.append(valid_vote_total)\n",
    "        try:\n",
    "            valid_vote_in_percentage = row.findAll('td')[3].text.replace(\",\",\".\")\n",
    "            Valid_Vote_In_Percentage.append(valid_vote_in_percentage)\n",
    "        except:\n",
    "            valid_vote_in_percentage = ''\n",
    "            "
   ]
  },
  {
   "cell_type": "markdown",
   "metadata": {},
   "source": [
    "### data is dictionary with key words and and the value the key words will csv header showing in csv file and there will be these list which we append the queries "
   ]
  },
  {
   "cell_type": "code",
   "execution_count": null,
   "metadata": {},
   "outputs": [],
   "source": [
    "data={'Name': Name, 'Valid_Vote_Total': Valid_Vote_Total, 'Valid_Vote_In_Percentage':Valid_Vote_In_Percentage,\n",
    "      'Region':Region, 'District':District,\n",
    "      'Municipality': Municipality, 'Voter_in_List': Voter_in_List, 'Issued_Envelopes':Issued_Envelopes,\n",
    "      'Turnout_in_Percen':Turnout_in_Percen, 'Submitted_Envelopes':Submitted_Envelopes,\n",
    "      'Valid_Voted': Valid_Voted, 'Percentage_of_Valid_Vote': Percentage_of_Valid_Vote,\n",
    "      'Municipality_code': Municipality_code,}"
   ]
  },
  {
   "cell_type": "markdown",
   "metadata": {},
   "source": [
    "### df1.to_csv for to generate the csv file \n",
    "### str(file) we intially get the input from user xyz this will be generate xyz.csv"
   ]
  },
  {
   "cell_type": "code",
   "execution_count": null,
   "metadata": {},
   "outputs": [],
   "source": [
    "df=pd.DataFrame.from_dict(data=data, orient='index')\n",
    "df1 = df.T \n",
    "# df1.to_excel(str(file)+\".xlsx\" index=False)\n",
    "# df1.to_csv(\"~/Desktop/books_to_scrap/Votes.csv\", index=False)\n",
    "df1.to_csv(\"~/Desktop/\"+str(file)+\".xlsx\", index=False) "
   ]
  },
  {
   "cell_type": "code",
   "execution_count": null,
   "metadata": {},
   "outputs": [],
   "source": []
  }
 ],
 "metadata": {
  "kernelspec": {
   "display_name": "Python 3",
   "language": "python",
   "name": "python3"
  },
  "language_info": {
   "codemirror_mode": {
    "name": "ipython",
    "version": 3
   },
   "file_extension": ".py",
   "mimetype": "text/x-python",
   "name": "python",
   "nbconvert_exporter": "python",
   "pygments_lexer": "ipython3",
   "version": "3.7.3"
  }
 },
 "nbformat": 4,
 "nbformat_minor": 2
}
